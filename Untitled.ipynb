{
 "cells": [
  {
   "cell_type": "code",
   "execution_count": 1,
   "id": "0f2842f5",
   "metadata": {
    "scrolled": true
   },
   "outputs": [
    {
     "data": {
      "text/html": [
       "<div>\n",
       "<style scoped>\n",
       "    .dataframe tbody tr th:only-of-type {\n",
       "        vertical-align: middle;\n",
       "    }\n",
       "\n",
       "    .dataframe tbody tr th {\n",
       "        vertical-align: top;\n",
       "    }\n",
       "\n",
       "    .dataframe thead th {\n",
       "        text-align: right;\n",
       "    }\n",
       "</style>\n",
       "<table border=\"1\" class=\"dataframe\">\n",
       "  <thead>\n",
       "    <tr style=\"text-align: right;\">\n",
       "      <th></th>\n",
       "      <th>Rank</th>\n",
       "      <th>Name</th>\n",
       "      <th>Platform</th>\n",
       "      <th>Year</th>\n",
       "      <th>Genre</th>\n",
       "      <th>Publisher</th>\n",
       "      <th>NA_Sales</th>\n",
       "      <th>EU_Sales</th>\n",
       "      <th>JP_Sales</th>\n",
       "      <th>Other_Sales</th>\n",
       "      <th>Global_Sales</th>\n",
       "    </tr>\n",
       "  </thead>\n",
       "  <tbody>\n",
       "    <tr>\n",
       "      <th>0</th>\n",
       "      <td>1</td>\n",
       "      <td>Wii Sports</td>\n",
       "      <td>Wii</td>\n",
       "      <td>2006</td>\n",
       "      <td>Sports</td>\n",
       "      <td>Nintendo</td>\n",
       "      <td>41.49</td>\n",
       "      <td>29.02</td>\n",
       "      <td>3.77</td>\n",
       "      <td>8.46</td>\n",
       "      <td>82.74</td>\n",
       "    </tr>\n",
       "    <tr>\n",
       "      <th>1</th>\n",
       "      <td>2</td>\n",
       "      <td>Super Mario Bros.</td>\n",
       "      <td>NES</td>\n",
       "      <td>1985</td>\n",
       "      <td>Platform</td>\n",
       "      <td>Nintendo</td>\n",
       "      <td>29.08</td>\n",
       "      <td>3.58</td>\n",
       "      <td>6.81</td>\n",
       "      <td>0.77</td>\n",
       "      <td>40.24</td>\n",
       "    </tr>\n",
       "    <tr>\n",
       "      <th>2</th>\n",
       "      <td>3</td>\n",
       "      <td>Mario Kart Wii</td>\n",
       "      <td>Wii</td>\n",
       "      <td>2008</td>\n",
       "      <td>Racing</td>\n",
       "      <td>Nintendo</td>\n",
       "      <td>15.85</td>\n",
       "      <td>12.88</td>\n",
       "      <td>3.79</td>\n",
       "      <td>3.31</td>\n",
       "      <td>35.82</td>\n",
       "    </tr>\n",
       "    <tr>\n",
       "      <th>3</th>\n",
       "      <td>4</td>\n",
       "      <td>Wii Sports Resort</td>\n",
       "      <td>Wii</td>\n",
       "      <td>2009</td>\n",
       "      <td>Sports</td>\n",
       "      <td>Nintendo</td>\n",
       "      <td>15.75</td>\n",
       "      <td>11.01</td>\n",
       "      <td>3.28</td>\n",
       "      <td>2.96</td>\n",
       "      <td>33.00</td>\n",
       "    </tr>\n",
       "    <tr>\n",
       "      <th>4</th>\n",
       "      <td>5</td>\n",
       "      <td>Pokemon Red/Pokemon Blue</td>\n",
       "      <td>GB</td>\n",
       "      <td>1996</td>\n",
       "      <td>Role-Playing</td>\n",
       "      <td>Nintendo</td>\n",
       "      <td>11.27</td>\n",
       "      <td>8.89</td>\n",
       "      <td>10.22</td>\n",
       "      <td>1.00</td>\n",
       "      <td>31.37</td>\n",
       "    </tr>\n",
       "    <tr>\n",
       "      <th>...</th>\n",
       "      <td>...</td>\n",
       "      <td>...</td>\n",
       "      <td>...</td>\n",
       "      <td>...</td>\n",
       "      <td>...</td>\n",
       "      <td>...</td>\n",
       "      <td>...</td>\n",
       "      <td>...</td>\n",
       "      <td>...</td>\n",
       "      <td>...</td>\n",
       "      <td>...</td>\n",
       "    </tr>\n",
       "    <tr>\n",
       "      <th>16593</th>\n",
       "      <td>16596</td>\n",
       "      <td>Woody Woodpecker in Crazy Castle 5</td>\n",
       "      <td>GBA</td>\n",
       "      <td>2002</td>\n",
       "      <td>Platform</td>\n",
       "      <td>Kemco</td>\n",
       "      <td>0.01</td>\n",
       "      <td>0.00</td>\n",
       "      <td>0.00</td>\n",
       "      <td>0.00</td>\n",
       "      <td>0.01</td>\n",
       "    </tr>\n",
       "    <tr>\n",
       "      <th>16594</th>\n",
       "      <td>16597</td>\n",
       "      <td>Men in Black II: Alien Escape</td>\n",
       "      <td>GC</td>\n",
       "      <td>2003</td>\n",
       "      <td>Shooter</td>\n",
       "      <td>Infogrames</td>\n",
       "      <td>0.01</td>\n",
       "      <td>0.00</td>\n",
       "      <td>0.00</td>\n",
       "      <td>0.00</td>\n",
       "      <td>0.01</td>\n",
       "    </tr>\n",
       "    <tr>\n",
       "      <th>16595</th>\n",
       "      <td>16598</td>\n",
       "      <td>SCORE International Baja 1000: The Official Game</td>\n",
       "      <td>PS2</td>\n",
       "      <td>2008</td>\n",
       "      <td>Racing</td>\n",
       "      <td>Activision</td>\n",
       "      <td>0.00</td>\n",
       "      <td>0.00</td>\n",
       "      <td>0.00</td>\n",
       "      <td>0.00</td>\n",
       "      <td>0.01</td>\n",
       "    </tr>\n",
       "    <tr>\n",
       "      <th>16596</th>\n",
       "      <td>16599</td>\n",
       "      <td>Know How 2</td>\n",
       "      <td>DS</td>\n",
       "      <td>2010</td>\n",
       "      <td>Puzzle</td>\n",
       "      <td>7G//AMES</td>\n",
       "      <td>0.00</td>\n",
       "      <td>0.01</td>\n",
       "      <td>0.00</td>\n",
       "      <td>0.00</td>\n",
       "      <td>0.01</td>\n",
       "    </tr>\n",
       "    <tr>\n",
       "      <th>16597</th>\n",
       "      <td>16600</td>\n",
       "      <td>Spirits &amp; Spells</td>\n",
       "      <td>GBA</td>\n",
       "      <td>2003</td>\n",
       "      <td>Platform</td>\n",
       "      <td>Wanadoo</td>\n",
       "      <td>0.01</td>\n",
       "      <td>0.00</td>\n",
       "      <td>0.00</td>\n",
       "      <td>0.00</td>\n",
       "      <td>0.01</td>\n",
       "    </tr>\n",
       "  </tbody>\n",
       "</table>\n",
       "<p>16598 rows × 11 columns</p>\n",
       "</div>"
      ],
      "text/plain": [
       "        Rank                                              Name Platform  Year  \\\n",
       "0          1                                        Wii Sports      Wii  2006   \n",
       "1          2                                 Super Mario Bros.      NES  1985   \n",
       "2          3                                    Mario Kart Wii      Wii  2008   \n",
       "3          4                                 Wii Sports Resort      Wii  2009   \n",
       "4          5                          Pokemon Red/Pokemon Blue       GB  1996   \n",
       "...      ...                                               ...      ...   ...   \n",
       "16593  16596                Woody Woodpecker in Crazy Castle 5      GBA  2002   \n",
       "16594  16597                     Men in Black II: Alien Escape       GC  2003   \n",
       "16595  16598  SCORE International Baja 1000: The Official Game      PS2  2008   \n",
       "16596  16599                                        Know How 2       DS  2010   \n",
       "16597  16600                                  Spirits & Spells      GBA  2003   \n",
       "\n",
       "              Genre   Publisher  NA_Sales  EU_Sales  JP_Sales  Other_Sales  \\\n",
       "0            Sports    Nintendo     41.49     29.02      3.77         8.46   \n",
       "1          Platform    Nintendo     29.08      3.58      6.81         0.77   \n",
       "2            Racing    Nintendo     15.85     12.88      3.79         3.31   \n",
       "3            Sports    Nintendo     15.75     11.01      3.28         2.96   \n",
       "4      Role-Playing    Nintendo     11.27      8.89     10.22         1.00   \n",
       "...             ...         ...       ...       ...       ...          ...   \n",
       "16593      Platform       Kemco      0.01      0.00      0.00         0.00   \n",
       "16594       Shooter  Infogrames      0.01      0.00      0.00         0.00   \n",
       "16595        Racing  Activision      0.00      0.00      0.00         0.00   \n",
       "16596        Puzzle    7G//AMES      0.00      0.01      0.00         0.00   \n",
       "16597      Platform     Wanadoo      0.01      0.00      0.00         0.00   \n",
       "\n",
       "       Global_Sales  \n",
       "0             82.74  \n",
       "1             40.24  \n",
       "2             35.82  \n",
       "3             33.00  \n",
       "4             31.37  \n",
       "...             ...  \n",
       "16593          0.01  \n",
       "16594          0.01  \n",
       "16595          0.01  \n",
       "16596          0.01  \n",
       "16597          0.01  \n",
       "\n",
       "[16598 rows x 11 columns]"
      ]
     },
     "metadata": {},
     "output_type": "display_data"
    }
   ],
   "source": [
    "import pandas as pd\n",
    "\n",
    "csv = \"./vgsales.csv\"\n",
    "\n",
    "df = pd.read_csv(csv)\n",
    "display(df)\n",
    "\n",
    "# We need to convert this data.\n",
    "\n",
    "# Create a list of all of the Platforms, Years, Genres, and Publishers.\n",
    "# Then, create a numerical mapping for them. Basically a hash key->value map.\n",
    "# Potentially group the lesser value ones into an \"Other\" category.\n",
    "\n",
    "# Iterate over the CSV.\n",
    "# For each row, check that Platform, Year, Genre, Publisher, and Global_Sales are present.\n",
    "# If they are not, skip the row.\n",
    "# If they are, write them into a new csv, using the values found from the hash key->value map.\n",
    "\n",
    "# Side note: we might just be able to do this directly with pandas, simply replacing the values in the csv file.\n",
    "# This would still require removing the \"bad\" values from the csv and knowing all the potential values.\n",
    "# https://www.geeksforgeeks.org/how-to-convert-categorical-variable-to-numeric-in-pandas/\n",
    "\n",
    "# End result is a new csv, with only numerical data. The numbers can be checked against the mappings to\n",
    "# see what they represent.\n"
   ]
  },
  {
   "cell_type": "code",
   "execution_count": 2,
   "id": "4c5f42e9",
   "metadata": {},
   "outputs": [],
   "source": [
    "import csv\n",
    "import os\n",
    "\n",
    "if os.path.exists(\"./cleaned_vgsales.csv\"):\n",
    "  os.remove(\"./cleaned_vgsales.csv\")\n",
    "\n",
    "csvfile =  open('./vgsales.csv', newline='')\n",
    "cleaned_csvfile = open('./cleaned_vgsales.csv', 'w', newline='')\n",
    "\n",
    "reader = csv.reader(csvfile, delimiter = ',')\n",
    "writer = csv.writer(cleaned_csvfile, delimiter = ',')\n",
    "\n",
    "for row in reader: \n",
    "    # row[2] = platform, row[3] = year, row[4] = genre, row[5] = publisher, row[10] = global sales\n",
    "    if (row[2] != '' and row[3] != '' and row[4] != '' and row[5] != '' and row[10] != ''):\n",
    "        # Also need to clean out \"N/A\" years and \"Unknown\" or \"N/A\" Publishers\n",
    "        if (row[3] != \"N/A\" and row[5] != \"Unknown\" and row[5] != \"N/A\"):\n",
    "            writer.writerow(row)\n",
    "\n",
    "\n",
    "cleaned_df = pd.read_csv('./cleaned_vgsales.csv')\n",
    "\n",
    "platforms = cleaned_df['Platform'].value_counts()\n",
    "years = cleaned_df['Year'].value_counts()\n",
    "genres = cleaned_df['Genre'].value_counts()\n",
    "publishers = cleaned_df['Publisher'].value_counts()"
   ]
  },
  {
   "cell_type": "code",
   "execution_count": 3,
   "id": "859157ac",
   "metadata": {
    "scrolled": true
   },
   "outputs": [
    {
     "name": "stdout",
     "output_type": "stream",
     "text": [
      "PS2     2118\n",
      "DS      2102\n",
      "PS3     1292\n",
      "Wii     1275\n",
      "X360    1230\n",
      "PS      1186\n",
      "PSP     1184\n",
      "PC       912\n",
      "XB       803\n",
      "GBA      774\n",
      "GC       539\n",
      "3DS      491\n",
      "PSV      399\n",
      "PS4      333\n",
      "N64      314\n",
      "SNES     239\n",
      "XOne     209\n",
      "SAT      173\n",
      "WiiU     143\n",
      "2600     115\n",
      "NES       98\n",
      "GB        97\n",
      "DC        52\n",
      "GEN       27\n",
      "NG        12\n",
      "SCD        6\n",
      "WS         6\n",
      "3DO        3\n",
      "TG16       2\n",
      "GG         1\n",
      "PCFX       1\n",
      "Name: Platform, dtype: int64\n"
     ]
    }
   ],
   "source": [
    "print(platforms)"
   ]
  },
  {
   "cell_type": "code",
   "execution_count": 4,
   "id": "8e6148ce",
   "metadata": {},
   "outputs": [],
   "source": [
    "# Anything below GB is grouped into \"Other\"\n",
    "\n",
    "platform_dict = {\n",
    "    \"PS2\": 1,\n",
    "    \"DS\": 2,\n",
    "    \"PS3\": 3,\n",
    "    \"Wii\": 4,\n",
    "    \"X360\": 5,\n",
    "    \"PS\": 6,\n",
    "    \"PSP\": 7,\n",
    "    \"PC\": 8,\n",
    "    \"XB\": 9,\n",
    "    \"GBA\": 10,\n",
    "    \"GC\": 11,\n",
    "    \"3DS\": 12,\n",
    "    \"PSV\": 13,\n",
    "    \"PS4\": 14,\n",
    "    \"N64\": 15,\n",
    "    \"SNES\": 16,\n",
    "    \"XOne\": 17,\n",
    "    \"SAT\": 18,\n",
    "    \"WiiU\": 19,\n",
    "    \"2600\": 20,\n",
    "    \"NES\": 21,\n",
    "    \"GB\": 22,\n",
    "    \"Other\": 23\n",
    "}"
   ]
  },
  {
   "cell_type": "code",
   "execution_count": 5,
   "id": "e2ac71af",
   "metadata": {
    "scrolled": true
   },
   "outputs": [
    {
     "name": "stdout",
     "output_type": "stream",
     "text": [
      "2009    1426\n",
      "2008    1416\n",
      "2010    1237\n",
      "2007    1191\n",
      "2011    1092\n",
      "2006    1004\n",
      "2005     935\n",
      "2002     823\n",
      "2003     771\n",
      "2004     742\n",
      "2012     647\n",
      "2015     605\n",
      "2014     574\n",
      "2013     543\n",
      "2001     477\n",
      "1998     378\n",
      "2000     348\n",
      "1999     337\n",
      "2016     331\n",
      "1997     289\n",
      "1996     263\n",
      "1995     218\n",
      "1994     121\n",
      "1993      60\n",
      "1981      45\n",
      "1992      43\n",
      "1991      41\n",
      "1982      36\n",
      "1986      21\n",
      "1989      17\n",
      "1983      17\n",
      "1990      16\n",
      "1987      16\n",
      "1988      15\n",
      "1985      14\n",
      "1984      14\n",
      "1980       9\n",
      "2017       3\n",
      "2020       1\n",
      "Name: Year, dtype: int64\n"
     ]
    }
   ],
   "source": [
    "print(years)"
   ]
  },
  {
   "cell_type": "code",
   "execution_count": 6,
   "id": "4ce7ceba",
   "metadata": {},
   "outputs": [],
   "source": [
    "# 2017, 2020 grouped with 2016, group all of 1980's together.\n",
    "\n",
    "year_dict = {\n",
    "    \"1980\": 1,\n",
    "    \"1981\": 1,\n",
    "    \"1982\": 1,\n",
    "    \"1983\": 1,\n",
    "    \"1984\": 1,\n",
    "    \"1985\": 1,\n",
    "    \"1986\": 1,\n",
    "    \"1987\": 1,\n",
    "    \"1988\": 1,\n",
    "    \"1989\": 1,\n",
    "    \"1990\": 2,\n",
    "    \"1991\": 3,\n",
    "    \"1992\": 4,\n",
    "    \"1993\": 5,\n",
    "    \"1994\": 6,\n",
    "    \"1995\": 7,\n",
    "    \"1996\": 8,\n",
    "    \"1997\": 9,\n",
    "    \"1998\": 10,\n",
    "    \"1999\": 11,\n",
    "    \"2000\": 12,\n",
    "    \"2001\": 13,\n",
    "    \"2002\": 14,\n",
    "    \"2003\": 15,\n",
    "    \"2004\": 16,\n",
    "    \"2005\": 17,\n",
    "    \"2006\": 18,\n",
    "    \"2007\": 19,\n",
    "    \"2008\": 20,\n",
    "    \"2009\": 21,\n",
    "    \"2010\": 22,\n",
    "    \"2011\": 23,\n",
    "    \"2012\": 24,\n",
    "    \"2013\": 25,\n",
    "    \"2014\": 26,\n",
    "    \"2015\": 27,\n",
    "    \"2016\": 28,\n",
    "    \"2017\": 28,\n",
    "    \"2020\": 28\n",
    "}"
   ]
  },
  {
   "cell_type": "code",
   "execution_count": 7,
   "id": "48f1ee18",
   "metadata": {
    "scrolled": true
   },
   "outputs": [
    {
     "name": "stdout",
     "output_type": "stream",
     "text": [
      "Action          3225\n",
      "Sports          2291\n",
      "Misc            1670\n",
      "Role-Playing    1455\n",
      "Shooter         1275\n",
      "Adventure       1247\n",
      "Racing          1219\n",
      "Platform         866\n",
      "Simulation       841\n",
      "Fighting         832\n",
      "Strategy         662\n",
      "Puzzle           553\n",
      "Name: Genre, dtype: int64\n"
     ]
    }
   ],
   "source": [
    "print(genres)"
   ]
  },
  {
   "cell_type": "code",
   "execution_count": 8,
   "id": "b9e02da5",
   "metadata": {},
   "outputs": [],
   "source": [
    "genre_dict = {\n",
    "    \"Action\": 1,\n",
    "    \"Sports\": 2,\n",
    "    \"Misc\": 3,\n",
    "    \"Role-Playing\": 4,\n",
    "    \"Shooter\": 5,\n",
    "    \"Adventure\": 6,\n",
    "    \"Racing\": 7,\n",
    "    \"Platform\": 8,\n",
    "    \"Simulation\": 9,\n",
    "    \"Fighting\": 10,\n",
    "    \"Strategy\": 11,\n",
    "    \"Puzzle\": 12\n",
    "}"
   ]
  },
  {
   "cell_type": "code",
   "execution_count": 9,
   "id": "f95795a7",
   "metadata": {
    "scrolled": true
   },
   "outputs": [
    {
     "name": "stdout",
     "output_type": "stream",
     "text": [
      "Electronic Arts                 1338\n",
      "Activision                       965\n",
      "Namco Bandai Games               926\n",
      "Ubisoft                          915\n",
      "Konami Digital Entertainment     822\n",
      "                                ... \n",
      "Warp                               1\n",
      "Elite                              1\n",
      "Evolution Games                    1\n",
      "Aria                               1\n",
      "Interchannel-Holon                 1\n",
      "Name: Publisher, Length: 573, dtype: int64\n"
     ]
    }
   ],
   "source": [
    "print(publishers)"
   ]
  },
  {
   "cell_type": "code",
   "execution_count": 10,
   "id": "2ff72a26",
   "metadata": {},
   "outputs": [],
   "source": [
    "# Anything below 10 grouped into \"Other\"\n",
    "\n",
    "# Going to need to do this one programmatically (there's too many to type)\n",
    "publisher_dict = {}\n",
    "\n",
    "dict_number = 1\n",
    "\n",
    "for i, v in publishers.items():\n",
    "    if v > 9:\n",
    "        publisher_dict[i] = dict_number\n",
    "        \n",
    "        dict_number += 1\n",
    "        \n",
    "publisher_dict[\"Other\"] = dict_number"
   ]
  },
  {
   "cell_type": "code",
   "execution_count": 11,
   "id": "f8042bd2",
   "metadata": {},
   "outputs": [
    {
     "name": "stdout",
     "output_type": "stream",
     "text": [
      "{'Electronic Arts': 1, 'Activision': 2, 'Namco Bandai Games': 3, 'Ubisoft': 4, 'Konami Digital Entertainment': 5, 'THQ': 6, 'Nintendo': 7, 'Sony Computer Entertainment': 8, 'Sega': 9, 'Take-Two Interactive': 10, 'Capcom': 11, 'Atari': 12, 'Tecmo Koei': 13, 'Square Enix': 14, 'Warner Bros. Interactive Entertainment': 15, 'Disney Interactive Studios': 16, 'Eidos Interactive': 17, 'Midway Games': 18, '505 Games': 19, 'Microsoft Game Studios': 20, 'Acclaim Entertainment': 21, 'D3Publisher': 22, 'Vivendi Games': 23, 'Codemasters': 24, 'Idea Factory': 25, 'Deep Silver': 26, 'Zoo Digital Publishing': 27, 'Nippon Ichi Software': 28, 'LucasArts': 29, 'Majesco Entertainment': 30, 'Rising Star Games': 31, 'Hudson Soft': 32, 'Banpresto': 33, 'Crave Entertainment': 34, 'Bethesda Softworks': 35, 'Atlus': 36, 'Virgin Interactive': 37, '5pb': 38, 'Ignition Entertainment': 39, 'Infogrames': 40, 'Focus Home Interactive': 41, 'Marvelous Interactive': 42, 'SquareSoft': 43, 'Empire Interactive': 44, 'Kadokawa Shoten': 45, 'GT Interactive': 46, 'DTP Entertainment': 47, 'Destineer': 48, 'Alchemist': 49, 'MTV Games': 50, 'PQube': 51, 'Global Star': 52, 'Spike': 53, 'SouthPeak Games': 54, 'TDK Mediactive': 55, '3DO': 56, 'Takara Tomy': 57, 'BAM! Entertainment': 58, 'Nordic Games': 59, 'Zoo Games': 60, 'Psygnosis': 61, 'Game Factory': 62, 'Mindscape': 63, 'Interplay': 64, 'Enix Corporation': 65, 'Black Bean Games': 66, 'Activision Value': 67, 'FuRyu': 68, 'Level 5': 69, 'Little Orbit': 70, 'Kalypso Media': 71, 'Prototype': 72, 'Arc System Works': 73, 'Telltale Games': 74, 'Avanquest': 75, 'Midas Interactive Entertainment': 76, 'Paradox Interactive': 77, 'Aqua Plus': 78, 'Jaleco': 79, 'Broccoli': 80, 'Universal Interactive': 81, 'JoWood Productions': 82, 'SNK': 83, 'Oxygen Interactive': 84, 'Compile Heart': 85, 'ASCII Entertainment': 86, 'Kemco': 87, 'Storm City Games': 88, 'Success': 89, 'Taito': 90, 'SNK Playmore': 91, 'ChunSoft': 92, 'Zushi Games': 93, 'Tomy Corporation': 94, 'Titus': 95, 'City Interactive': 96, 'Natsume': 97, 'Koch Media': 98, 'Rocket Company': 99, 'O-Games': 100, 'DreamCatcher Interactive': 101, 'SCi': 102, 'Imagineer': 103, 'UFO Interactive': 104, 'GSP': 105, 'Hasbro Interactive': 106, 'Milestone S.r.l.': 107, 'Takara': 108, 'Enterbrain': 109, 'Falcom Corporation': 110, 'From Software': 111, 'Mastiff': 112, 'Kadokawa Games': 113, 'Sony Computer Entertainment Europe': 114, 'Ocean': 115, 'Ghostlight': 116, 'Rondomedia': 117, 'Play It': 118, 'Playlogic Game Factory': 119, 'Ubisoft Annecy': 120, 'Conspiracy Entertainment': 121, '989 Studios': 122, 'CyberFront': 123, 'PopCap Games': 124, 'System 3 Arcade Software': 125, 'Human Entertainment': 126, 'Quinrose': 127, 'Gust': 128, 'GungHo': 129, 'Nobilis': 130, 'Bigben Interactive': 131, 'Acquire': 132, 'Mastertronic': 133, 'Irem Software Engineering': 134, 'XS Games': 135, 'Metro 3D': 136, 'Mattel Interactive': 137, 'Marvelous Entertainment': 138, 'Yeti': 139, 'Sammy Corporation': 140, 'Destination Software, Inc': 141, 'Hudson Entertainment': 142, 'Cave': 143, 'Microids': 144, 'Sunsoft': 145, 'Scholastic Inc.': 146, 'Xplosiv': 147, 'Brash Entertainment': 148, 'Starfish': 149, 'Ackkstudios': 150, 'Other': 151}\n"
     ]
    }
   ],
   "source": [
    "print(publisher_dict)"
   ]
  },
  {
   "cell_type": "code",
   "execution_count": 12,
   "id": "dec487a4",
   "metadata": {},
   "outputs": [],
   "source": [
    "if os.path.exists(\"./formatted_vgsales.csv\"):\n",
    "  os.remove(\"./formatted_vgsales.csv\")\n",
    "\n",
    "cleaned_csvfile =  open('./cleaned_vgsales.csv', newline='')\n",
    "formatted_csvfile = open('./formatted_vgsales.csv', 'w', newline='')\n",
    "\n",
    "reader = csv.reader(cleaned_csvfile, delimiter = ',')\n",
    "writer = csv.writer(formatted_csvfile, delimiter = ',')\n",
    "\n",
    "# Skip reading headers on cleaned csv, and write new headers to formatted csv\n",
    "next(reader)\n",
    "writer.writerow([\"Platform\", \"Year\", \"Genre\", \"Publisher\", \"Global Sales\"])\n",
    "\n",
    "for row in reader: \n",
    "    # row[2] = platform, row[3] = year, row[4] = genre, row[5] = publisher, row[10] = global sales\n",
    "\n",
    "    # Find the numeric platform value\n",
    "    if row[2] in platform_dict.keys():\n",
    "        numeric_platform = platform_dict[row[2]]\n",
    "    else:\n",
    "        numeric_platform = platform_dict[\"Other\"]\n",
    "        \n",
    "    # Find the numeric year value\n",
    "    numeric_year = year_dict[row[3]]\n",
    "    \n",
    "    # Find the numeric genre value\n",
    "    numeric_genre = genre_dict[row[4]]\n",
    "    \n",
    "    # Find the numeric publisher value\n",
    "    if row[5] in publisher_dict.keys():\n",
    "        numeric_publisher = publisher_dict[row[5]]\n",
    "    else:\n",
    "        numeric_publisher = publisher_dict[\"Other\"]\n",
    "    \n",
    "    # Construct a numeric row to write to the formatted csv\n",
    "    numeric_row = [numeric_platform, numeric_year, numeric_genre, numeric_publisher, row[10]]\n",
    "    \n",
    "    writer.writerow(numeric_row)\n",
    "\n"
   ]
  },
  {
   "cell_type": "code",
   "execution_count": 13,
   "id": "f0d90d85",
   "metadata": {},
   "outputs": [
    {
     "data": {
      "text/html": [
       "<div>\n",
       "<style scoped>\n",
       "    .dataframe tbody tr th:only-of-type {\n",
       "        vertical-align: middle;\n",
       "    }\n",
       "\n",
       "    .dataframe tbody tr th {\n",
       "        vertical-align: top;\n",
       "    }\n",
       "\n",
       "    .dataframe thead th {\n",
       "        text-align: right;\n",
       "    }\n",
       "</style>\n",
       "<table border=\"1\" class=\"dataframe\">\n",
       "  <thead>\n",
       "    <tr style=\"text-align: right;\">\n",
       "      <th></th>\n",
       "      <th>Platform</th>\n",
       "      <th>Year</th>\n",
       "      <th>Genre</th>\n",
       "      <th>Publisher</th>\n",
       "      <th>Global Sales</th>\n",
       "    </tr>\n",
       "  </thead>\n",
       "  <tbody>\n",
       "    <tr>\n",
       "      <th>0</th>\n",
       "      <td>4</td>\n",
       "      <td>18</td>\n",
       "      <td>2</td>\n",
       "      <td>7</td>\n",
       "      <td>82.74</td>\n",
       "    </tr>\n",
       "    <tr>\n",
       "      <th>1</th>\n",
       "      <td>21</td>\n",
       "      <td>1</td>\n",
       "      <td>8</td>\n",
       "      <td>7</td>\n",
       "      <td>40.24</td>\n",
       "    </tr>\n",
       "    <tr>\n",
       "      <th>2</th>\n",
       "      <td>4</td>\n",
       "      <td>20</td>\n",
       "      <td>7</td>\n",
       "      <td>7</td>\n",
       "      <td>35.82</td>\n",
       "    </tr>\n",
       "    <tr>\n",
       "      <th>3</th>\n",
       "      <td>4</td>\n",
       "      <td>21</td>\n",
       "      <td>2</td>\n",
       "      <td>7</td>\n",
       "      <td>33.00</td>\n",
       "    </tr>\n",
       "    <tr>\n",
       "      <th>4</th>\n",
       "      <td>22</td>\n",
       "      <td>8</td>\n",
       "      <td>4</td>\n",
       "      <td>7</td>\n",
       "      <td>31.37</td>\n",
       "    </tr>\n",
       "    <tr>\n",
       "      <th>...</th>\n",
       "      <td>...</td>\n",
       "      <td>...</td>\n",
       "      <td>...</td>\n",
       "      <td>...</td>\n",
       "      <td>...</td>\n",
       "    </tr>\n",
       "    <tr>\n",
       "      <th>16001</th>\n",
       "      <td>8</td>\n",
       "      <td>21</td>\n",
       "      <td>2</td>\n",
       "      <td>5</td>\n",
       "      <td>0.01</td>\n",
       "    </tr>\n",
       "    <tr>\n",
       "      <th>16002</th>\n",
       "      <td>7</td>\n",
       "      <td>20</td>\n",
       "      <td>6</td>\n",
       "      <td>38</td>\n",
       "      <td>0.01</td>\n",
       "    </tr>\n",
       "    <tr>\n",
       "      <th>16003</th>\n",
       "      <td>7</td>\n",
       "      <td>21</td>\n",
       "      <td>1</td>\n",
       "      <td>111</td>\n",
       "      <td>0.01</td>\n",
       "    </tr>\n",
       "    <tr>\n",
       "      <th>16004</th>\n",
       "      <td>13</td>\n",
       "      <td>24</td>\n",
       "      <td>6</td>\n",
       "      <td>8</td>\n",
       "      <td>0.01</td>\n",
       "    </tr>\n",
       "    <tr>\n",
       "      <th>16005</th>\n",
       "      <td>1</td>\n",
       "      <td>19</td>\n",
       "      <td>6</td>\n",
       "      <td>22</td>\n",
       "      <td>0.01</td>\n",
       "    </tr>\n",
       "  </tbody>\n",
       "</table>\n",
       "<p>16006 rows × 5 columns</p>\n",
       "</div>"
      ],
      "text/plain": [
       "       Platform  Year  Genre  Publisher  Global Sales\n",
       "0             4    18      2          7         82.74\n",
       "1            21     1      8          7         40.24\n",
       "2             4    20      7          7         35.82\n",
       "3             4    21      2          7         33.00\n",
       "4            22     8      4          7         31.37\n",
       "...         ...   ...    ...        ...           ...\n",
       "16001         8    21      2          5          0.01\n",
       "16002         7    20      6         38          0.01\n",
       "16003         7    21      1        111          0.01\n",
       "16004        13    24      6          8          0.01\n",
       "16005         1    19      6         22          0.01\n",
       "\n",
       "[16006 rows x 5 columns]"
      ]
     },
     "metadata": {},
     "output_type": "display_data"
    }
   ],
   "source": [
    "formatted_csv = \"./formatted_vgsales.csv\"\n",
    "\n",
    "formatted_df = pd.read_csv(formatted_csv)\n",
    "display(formatted_df)"
   ]
  },
  {
   "cell_type": "code",
   "execution_count": 14,
   "id": "adeb6bae",
   "metadata": {},
   "outputs": [
    {
     "data": {
      "image/png": "[encoded data removed]",
      "text/plain": [
       "<Figure size 432x288 with 6 Axes>"
      ]
     },
     "metadata": {
      "needs_background": "light"
     },
     "output_type": "display_data"
    }
   ],
   "source": [
    "from matplotlib import pyplot\n",
    "\n",
    "formatted_df.hist()\n",
    "pyplot.show()\n",
    "\n",
    "# Without data conversion, this ends up not being very helpful."
   ]
  },
  {
   "cell_type": "code",
   "execution_count": 15,
   "id": "2d2590ad",
   "metadata": {},
   "outputs": [
    {
     "data": {
      "text/plain": [
       "array([[<AxesSubplot:xlabel='Platform', ylabel='Platform'>,\n",
       "        <AxesSubplot:xlabel='Year', ylabel='Platform'>,\n",
       "        <AxesSubplot:xlabel='Genre', ylabel='Platform'>,\n",
       "        <AxesSubplot:xlabel='Publisher', ylabel='Platform'>,\n",
       "        <AxesSubplot:xlabel='Global Sales', ylabel='Platform'>],\n",
       "       [<AxesSubplot:xlabel='Platform', ylabel='Year'>,\n",
       "        <AxesSubplot:xlabel='Year', ylabel='Year'>,\n",
       "        <AxesSubplot:xlabel='Genre', ylabel='Year'>,\n",
       "        <AxesSubplot:xlabel='Publisher', ylabel='Year'>,\n",
       "        <AxesSubplot:xlabel='Global Sales', ylabel='Year'>],\n",
       "       [<AxesSubplot:xlabel='Platform', ylabel='Genre'>,\n",
       "        <AxesSubplot:xlabel='Year', ylabel='Genre'>,\n",
       "        <AxesSubplot:xlabel='Genre', ylabel='Genre'>,\n",
       "        <AxesSubplot:xlabel='Publisher', ylabel='Genre'>,\n",
       "        <AxesSubplot:xlabel='Global Sales', ylabel='Genre'>],\n",
       "       [<AxesSubplot:xlabel='Platform', ylabel='Publisher'>,\n",
       "        <AxesSubplot:xlabel='Year', ylabel='Publisher'>,\n",
       "        <AxesSubplot:xlabel='Genre', ylabel='Publisher'>,\n",
       "        <AxesSubplot:xlabel='Publisher', ylabel='Publisher'>,\n",
       "        <AxesSubplot:xlabel='Global Sales', ylabel='Publisher'>],\n",
       "       [<AxesSubplot:xlabel='Platform', ylabel='Global Sales'>,\n",
       "        <AxesSubplot:xlabel='Year', ylabel='Global Sales'>,\n",
       "        <AxesSubplot:xlabel='Genre', ylabel='Global Sales'>,\n",
       "        <AxesSubplot:xlabel='Publisher', ylabel='Global Sales'>,\n",
       "        <AxesSubplot:xlabel='Global Sales', ylabel='Global Sales'>]],\n",
       "      dtype=object)"
      ]
     },
     "execution_count": 15,
     "metadata": {},
     "output_type": "execute_result"
    },
    {
     "data": {
      "image/png": "[encoded data removed]",
      "text/plain": [
       "<Figure size 432x288 with 25 Axes>"
      ]
     },
     "metadata": {
      "needs_background": "light"
     },
     "output_type": "display_data"
    }
   ],
   "source": [
    "from pandas.plotting import scatter_matrix\n",
    "\n",
    "scatter_matrix(formatted_df)\n",
    "\n",
    "# Without data converstion, this ends up not being very helpful."
   ]
  },
  {
   "cell_type": "code",
   "execution_count": 31,
   "id": "cb658656",
   "metadata": {},
   "outputs": [
    {
     "data": {
      "text/plain": [
       "LinearRegression()"
      ]
     },
     "execution_count": 31,
     "metadata": {},
     "output_type": "execute_result"
    }
   ],
   "source": [
    "from sklearn import linear_model\n",
    "\n",
    "lin_model = linear_model.LinearRegression()\n",
    "\n",
    "X = formatted_df.values[:, 0:4]\n",
    "y = formatted_df.values[:, 4]\n",
    "\n",
    "lin_model.fit(X, y)\n",
    "\n",
    "# print(lin_model.predict([[1,12,6]]))"
   ]
  },
  {
   "cell_type": "code",
   "execution_count": 32,
   "id": "cd98138d",
   "metadata": {},
   "outputs": [
    {
     "name": "stdout",
     "output_type": "stream",
     "text": [
      "0.5844769797651201\n",
      "2.445709989657608\n",
      "0.019905831764996385\n",
      "1.9905831764996385 %\n"
     ]
    }
   ],
   "source": [
    "from sklearn import metrics\n",
    "\n",
    "y_pred = lin_model.predict(X)\n",
    "\n",
    "print(metrics.mean_absolute_error(y, y_pred))\n",
    "print(metrics.mean_squared_error(y, y_pred))\n",
    "print(metrics.r2_score(y, y_pred))\n",
    "\n",
    "print(lin_model.score(X,y)*100,'%')"
   ]
  },
  {
   "cell_type": "code",
   "execution_count": 18,
   "id": "f1954891",
   "metadata": {},
   "outputs": [],
   "source": [
    "# if os.path.exists(\"./shortened_vgsales.csv\"):\n",
    "#   os.remove(\"./shortened_vgsales.csv\")\n",
    "\n",
    "# formatted_csvfile =  open('./formatted_vgsales.csv', newline='')\n",
    "# shortened_csvfile = open('./shortened_vgsales.csv', 'w', newline='')\n",
    "\n",
    "# reader = csv.reader(formatted_csvfile, delimiter = ',')\n",
    "# writer = csv.writer(shortened_csvfile, delimiter = ',')\n",
    "\n",
    "# # Skip reading headers on old csv, and write headers to new csv\n",
    "# next(reader)\n",
    "# # writer.writerow([\"Platform\", \"Year\", \"Genre\", \"Publisher\", \"Global Sales\"])\n",
    "\n",
    "# rows = []\n",
    "# rows.append([\"Platform\", \"Year\", \"Genre\", \"Publisher\", \"Global Sales\"])\n",
    "\n",
    "\n",
    "# for row in reader: \n",
    "#     # row[0] = platform, row[1] = year, row[2] = genre, row[3] = publisher, row[4] = global sales\n",
    "#     sales = float(row[4])\n",
    "#     if sales < 36 and sales > 0.999:\n",
    "#         rows.append(row)\n",
    "        \n",
    "# for row in rows:\n",
    "#     writer.writerow(row)"
   ]
  },
  {
   "cell_type": "code",
   "execution_count": 24,
   "id": "498a8272",
   "metadata": {},
   "outputs": [
    {
     "data": {
      "text/html": [
       "<div>\n",
       "<style scoped>\n",
       "    .dataframe tbody tr th:only-of-type {\n",
       "        vertical-align: middle;\n",
       "    }\n",
       "\n",
       "    .dataframe tbody tr th {\n",
       "        vertical-align: top;\n",
       "    }\n",
       "\n",
       "    .dataframe thead th {\n",
       "        text-align: right;\n",
       "    }\n",
       "</style>\n",
       "<table border=\"1\" class=\"dataframe\">\n",
       "  <thead>\n",
       "    <tr style=\"text-align: right;\">\n",
       "      <th></th>\n",
       "      <th>Platform</th>\n",
       "      <th>Year</th>\n",
       "      <th>Genre</th>\n",
       "      <th>Publisher</th>\n",
       "      <th>Global Sales</th>\n",
       "    </tr>\n",
       "  </thead>\n",
       "  <tbody>\n",
       "    <tr>\n",
       "      <th>0</th>\n",
       "      <td>4</td>\n",
       "      <td>20</td>\n",
       "      <td>7</td>\n",
       "      <td>7</td>\n",
       "      <td>35.82</td>\n",
       "    </tr>\n",
       "    <tr>\n",
       "      <th>1</th>\n",
       "      <td>4</td>\n",
       "      <td>21</td>\n",
       "      <td>2</td>\n",
       "      <td>7</td>\n",
       "      <td>33.00</td>\n",
       "    </tr>\n",
       "    <tr>\n",
       "      <th>2</th>\n",
       "      <td>22</td>\n",
       "      <td>8</td>\n",
       "      <td>4</td>\n",
       "      <td>7</td>\n",
       "      <td>31.37</td>\n",
       "    </tr>\n",
       "    <tr>\n",
       "      <th>3</th>\n",
       "      <td>22</td>\n",
       "      <td>1</td>\n",
       "      <td>12</td>\n",
       "      <td>7</td>\n",
       "      <td>30.26</td>\n",
       "    </tr>\n",
       "    <tr>\n",
       "      <th>4</th>\n",
       "      <td>2</td>\n",
       "      <td>18</td>\n",
       "      <td>8</td>\n",
       "      <td>7</td>\n",
       "      <td>30.01</td>\n",
       "    </tr>\n",
       "    <tr>\n",
       "      <th>...</th>\n",
       "      <td>...</td>\n",
       "      <td>...</td>\n",
       "      <td>...</td>\n",
       "      <td>...</td>\n",
       "      <td>...</td>\n",
       "    </tr>\n",
       "    <tr>\n",
       "      <th>2050</th>\n",
       "      <td>4</td>\n",
       "      <td>22</td>\n",
       "      <td>3</td>\n",
       "      <td>6</td>\n",
       "      <td>1.00</td>\n",
       "    </tr>\n",
       "    <tr>\n",
       "      <th>2051</th>\n",
       "      <td>3</td>\n",
       "      <td>25</td>\n",
       "      <td>1</td>\n",
       "      <td>16</td>\n",
       "      <td>1.00</td>\n",
       "    </tr>\n",
       "    <tr>\n",
       "      <th>2052</th>\n",
       "      <td>5</td>\n",
       "      <td>23</td>\n",
       "      <td>4</td>\n",
       "      <td>3</td>\n",
       "      <td>1.00</td>\n",
       "    </tr>\n",
       "    <tr>\n",
       "      <th>2053</th>\n",
       "      <td>2</td>\n",
       "      <td>20</td>\n",
       "      <td>12</td>\n",
       "      <td>4</td>\n",
       "      <td>1.00</td>\n",
       "    </tr>\n",
       "    <tr>\n",
       "      <th>2054</th>\n",
       "      <td>6</td>\n",
       "      <td>12</td>\n",
       "      <td>3</td>\n",
       "      <td>8</td>\n",
       "      <td>1.00</td>\n",
       "    </tr>\n",
       "  </tbody>\n",
       "</table>\n",
       "<p>2055 rows × 5 columns</p>\n",
       "</div>"
      ],
      "text/plain": [
       "      Platform  Year  Genre  Publisher  Global Sales\n",
       "0            4    20      7          7         35.82\n",
       "1            4    21      2          7         33.00\n",
       "2           22     8      4          7         31.37\n",
       "3           22     1     12          7         30.26\n",
       "4            2    18      8          7         30.01\n",
       "...        ...   ...    ...        ...           ...\n",
       "2050         4    22      3          6          1.00\n",
       "2051         3    25      1         16          1.00\n",
       "2052         5    23      4          3          1.00\n",
       "2053         2    20     12          4          1.00\n",
       "2054         6    12      3          8          1.00\n",
       "\n",
       "[2055 rows x 5 columns]"
      ]
     },
     "metadata": {},
     "output_type": "display_data"
    }
   ],
   "source": [
    "# Create the file ourselves because there is a bug somewhere preventing writer from writing all the rows\n",
    "\n",
    "shortened_csv = \"./shortened_vgsales.csv\"\n",
    "\n",
    "shortened_df = pd.read_csv(shortened_csv)\n",
    "display(shortened_df)"
   ]
  },
  {
   "cell_type": "code",
   "execution_count": 38,
   "id": "11038291",
   "metadata": {},
   "outputs": [
    {
     "data": {
      "text/plain": [
       "LinearRegression()"
      ]
     },
     "execution_count": 38,
     "metadata": {},
     "output_type": "execute_result"
    }
   ],
   "source": [
    "from sklearn import linear_model\n",
    "\n",
    "short_lin_model = linear_model.LinearRegression()\n",
    "\n",
    "short_X = shortened_df.values[:, 0:4]\n",
    "short_y = shortened_df.values[:, 4]\n",
    "\n",
    "short_lin_model.fit(short_X, short_y)"
   ]
  },
  {
   "cell_type": "code",
   "execution_count": 39,
   "id": "15644aa1",
   "metadata": {},
   "outputs": [
    {
     "name": "stdout",
     "output_type": "stream",
     "text": [
      "1.6627109430807967\n",
      "9.662874084909863\n",
      "0.004720474726051749\n",
      "0.4720474726051749 %\n"
     ]
    }
   ],
   "source": [
    "from sklearn import metrics\n",
    "\n",
    "short_y_pred = short_lin_model.predict(short_X)\n",
    "\n",
    "print(metrics.mean_absolute_error(short_y, short_y_pred))\n",
    "print(metrics.mean_squared_error(short_y, short_y_pred))\n",
    "print(metrics.r2_score(short_y, short_y_pred))\n",
    "\n",
    "print(short_lin_model.score(short_X,short_y)*100,'%')"
   ]
  },
  {
   "cell_type": "code",
   "execution_count": 40,
   "id": "6be7a249",
   "metadata": {},
   "outputs": [
    {
     "data": {
      "text/plain": [
       "array([[<AxesSubplot:xlabel='Platform', ylabel='Platform'>,\n",
       "        <AxesSubplot:xlabel='Year', ylabel='Platform'>,\n",
       "        <AxesSubplot:xlabel='Genre', ylabel='Platform'>,\n",
       "        <AxesSubplot:xlabel='Publisher', ylabel='Platform'>,\n",
       "        <AxesSubplot:xlabel='Global Sales', ylabel='Platform'>],\n",
       "       [<AxesSubplot:xlabel='Platform', ylabel='Year'>,\n",
       "        <AxesSubplot:xlabel='Year', ylabel='Year'>,\n",
       "        <AxesSubplot:xlabel='Genre', ylabel='Year'>,\n",
       "        <AxesSubplot:xlabel='Publisher', ylabel='Year'>,\n",
       "        <AxesSubplot:xlabel='Global Sales', ylabel='Year'>],\n",
       "       [<AxesSubplot:xlabel='Platform', ylabel='Genre'>,\n",
       "        <AxesSubplot:xlabel='Year', ylabel='Genre'>,\n",
       "        <AxesSubplot:xlabel='Genre', ylabel='Genre'>,\n",
       "        <AxesSubplot:xlabel='Publisher', ylabel='Genre'>,\n",
       "        <AxesSubplot:xlabel='Global Sales', ylabel='Genre'>],\n",
       "       [<AxesSubplot:xlabel='Platform', ylabel='Publisher'>,\n",
       "        <AxesSubplot:xlabel='Year', ylabel='Publisher'>,\n",
       "        <AxesSubplot:xlabel='Genre', ylabel='Publisher'>,\n",
       "        <AxesSubplot:xlabel='Publisher', ylabel='Publisher'>,\n",
       "        <AxesSubplot:xlabel='Global Sales', ylabel='Publisher'>],\n",
       "       [<AxesSubplot:xlabel='Platform', ylabel='Global Sales'>,\n",
       "        <AxesSubplot:xlabel='Year', ylabel='Global Sales'>,\n",
       "        <AxesSubplot:xlabel='Genre', ylabel='Global Sales'>,\n",
       "        <AxesSubplot:xlabel='Publisher', ylabel='Global Sales'>,\n",
       "        <AxesSubplot:xlabel='Global Sales', ylabel='Global Sales'>]],\n",
       "      dtype=object)"
      ]
     },
     "execution_count": 40,
     "metadata": {},
     "output_type": "execute_result"
    },
    {
     "data": {
      "image/png": "[encoded data removed]",
      "text/plain": [
       "<Figure size 432x288 with 25 Axes>"
      ]
     },
     "metadata": {
      "needs_background": "light"
     },
     "output_type": "display_data"
    }
   ],
   "source": [
    "scatter_matrix(shortened_df)"
   ]
  },
  {
   "cell_type": "code",
   "execution_count": 41,
   "id": "ca630842",
   "metadata": {},
   "outputs": [],
   "source": [
    "# Ok lets try logistical regression.\n"
   ]
  },
  {
   "cell_type": "code",
   "execution_count": 133,
   "id": "afe01b67",
   "metadata": {},
   "outputs": [],
   "source": [
    "# We need to convert the data into logistical regression. We will need to pick a cutoff\n",
    "# where everything above is over and everythin below is udner.\n",
    "\n",
    "# Let's start with just Gloabal sales > 1 and then adjust from there\n",
    "\n",
    "if os.path.exists(\"./logistical_vgsales.csv\"):\n",
    "  os.remove(\"./logistical_vgsales.csv\")\n",
    "\n",
    "formatted_csvfile =  open('./formatted_vgsales.csv', newline='')\n",
    "logistical_csvfile = open('./logistical_vgsales.csv', 'w', newline='')\n",
    "\n",
    "reader = csv.reader(formatted_csvfile, delimiter = ',')\n",
    "writer = csv.writer(logistical_csvfile, delimiter = ',')\n",
    "\n",
    "# # Skip reading headers on old csv, and write headers to new csv\n",
    "next(reader)\n",
    "writer.writerow([\"Platform\", \"Year\", \"Genre\", \"Publisher\", \"Global Sales\"])\n",
    "\n",
    "for row in reader:\n",
    "#     if float(row[4]) > 1:\n",
    "#         writer.writerow([row[0], row[1], row[2], row[3], \"Very High\"])\n",
    "    if float(row[4]) > 0.35:\n",
    "        writer.writerow([row[0], row[1], row[2], row[3], \"High\"])\n",
    "    elif float(row[4]) > 0.09:\n",
    "        writer.writerow([row[0], row[1], row[2], row[3], \"Average\"])\n",
    "    else:\n",
    "        writer.writerow([row[0], row[1], row[2], row[3], \"Low\"])"
   ]
  },
  {
   "cell_type": "code",
   "execution_count": 134,
   "id": "1c738ebb",
   "metadata": {
    "scrolled": false
   },
   "outputs": [
    {
     "data": {
      "text/html": [
       "<div>\n",
       "<style scoped>\n",
       "    .dataframe tbody tr th:only-of-type {\n",
       "        vertical-align: middle;\n",
       "    }\n",
       "\n",
       "    .dataframe tbody tr th {\n",
       "        vertical-align: top;\n",
       "    }\n",
       "\n",
       "    .dataframe thead th {\n",
       "        text-align: right;\n",
       "    }\n",
       "</style>\n",
       "<table border=\"1\" class=\"dataframe\">\n",
       "  <thead>\n",
       "    <tr style=\"text-align: right;\">\n",
       "      <th></th>\n",
       "      <th>Platform</th>\n",
       "      <th>Year</th>\n",
       "      <th>Genre</th>\n",
       "      <th>Publisher</th>\n",
       "      <th>Global Sales</th>\n",
       "    </tr>\n",
       "  </thead>\n",
       "  <tbody>\n",
       "    <tr>\n",
       "      <th>0</th>\n",
       "      <td>4</td>\n",
       "      <td>18</td>\n",
       "      <td>2</td>\n",
       "      <td>7</td>\n",
       "      <td>High</td>\n",
       "    </tr>\n",
       "    <tr>\n",
       "      <th>1</th>\n",
       "      <td>21</td>\n",
       "      <td>1</td>\n",
       "      <td>8</td>\n",
       "      <td>7</td>\n",
       "      <td>High</td>\n",
       "    </tr>\n",
       "    <tr>\n",
       "      <th>2</th>\n",
       "      <td>4</td>\n",
       "      <td>20</td>\n",
       "      <td>7</td>\n",
       "      <td>7</td>\n",
       "      <td>High</td>\n",
       "    </tr>\n",
       "    <tr>\n",
       "      <th>3</th>\n",
       "      <td>4</td>\n",
       "      <td>21</td>\n",
       "      <td>2</td>\n",
       "      <td>7</td>\n",
       "      <td>High</td>\n",
       "    </tr>\n",
       "    <tr>\n",
       "      <th>4</th>\n",
       "      <td>22</td>\n",
       "      <td>8</td>\n",
       "      <td>4</td>\n",
       "      <td>7</td>\n",
       "      <td>High</td>\n",
       "    </tr>\n",
       "    <tr>\n",
       "      <th>...</th>\n",
       "      <td>...</td>\n",
       "      <td>...</td>\n",
       "      <td>...</td>\n",
       "      <td>...</td>\n",
       "      <td>...</td>\n",
       "    </tr>\n",
       "    <tr>\n",
       "      <th>15744</th>\n",
       "      <td>8</td>\n",
       "      <td>23</td>\n",
       "      <td>6</td>\n",
       "      <td>151</td>\n",
       "      <td>Low</td>\n",
       "    </tr>\n",
       "    <tr>\n",
       "      <th>15745</th>\n",
       "      <td>7</td>\n",
       "      <td>23</td>\n",
       "      <td>6</td>\n",
       "      <td>49</td>\n",
       "      <td>Low</td>\n",
       "    </tr>\n",
       "    <tr>\n",
       "      <th>15746</th>\n",
       "      <td>2</td>\n",
       "      <td>20</td>\n",
       "      <td>6</td>\n",
       "      <td>3</td>\n",
       "      <td>Low</td>\n",
       "    </tr>\n",
       "    <tr>\n",
       "      <th>15747</th>\n",
       "      <td>7</td>\n",
       "      <td>26</td>\n",
       "      <td>3</td>\n",
       "      <td>13</td>\n",
       "      <td>Low</td>\n",
       "    </tr>\n",
       "    <tr>\n",
       "      <th>15748</th>\n",
       "      <td>1</td>\n",
       "      <td>18</td>\n",
       "      <td>6</td>\n",
       "      <td>151</td>\n",
       "      <td>Low</td>\n",
       "    </tr>\n",
       "  </tbody>\n",
       "</table>\n",
       "<p>15749 rows × 5 columns</p>\n",
       "</div>"
      ],
      "text/plain": [
       "       Platform  Year  Genre  Publisher Global Sales\n",
       "0             4    18      2          7         High\n",
       "1            21     1      8          7         High\n",
       "2             4    20      7          7         High\n",
       "3             4    21      2          7         High\n",
       "4            22     8      4          7         High\n",
       "...         ...   ...    ...        ...          ...\n",
       "15744         8    23      6        151          Low\n",
       "15745         7    23      6         49          Low\n",
       "15746         2    20      6          3          Low\n",
       "15747         7    26      3         13          Low\n",
       "15748         1    18      6        151          Low\n",
       "\n",
       "[15749 rows x 5 columns]"
      ]
     },
     "metadata": {},
     "output_type": "display_data"
    }
   ],
   "source": [
    "logistical_csv = \"./logistical_vgsales.csv\"\n",
    "\n",
    "logistical_df = pd.read_csv(logistical_csv)\n",
    "display(logistical_df)"
   ]
  },
  {
   "cell_type": "code",
   "execution_count": 135,
   "id": "aa762662",
   "metadata": {},
   "outputs": [
    {
     "name": "stdout",
     "output_type": "stream",
     "text": [
      "Average    5423\n",
      "High       5171\n",
      "Low        5155\n",
      "Name: Global Sales, dtype: int64\n"
     ]
    }
   ],
   "source": [
    "category_counts = logistical_df['Global Sales'].value_counts()\n",
    "\n",
    "print(category_counts)"
   ]
  },
  {
   "cell_type": "code",
   "execution_count": 136,
   "id": "78242cd5",
   "metadata": {},
   "outputs": [
    {
     "data": {
      "text/plain": [
       "LogisticRegression(max_iter=1000)"
      ]
     },
     "execution_count": 136,
     "metadata": {},
     "output_type": "execute_result"
    }
   ],
   "source": [
    "from sklearn import linear_model\n",
    "\n",
    "log_model = linear_model.LogisticRegression(max_iter = 1000)\n",
    "\n",
    "log_X = logistical_df.values[:, 0:4]\n",
    "log_y = logistical_df.values[:, 4]\n",
    "\n",
    "log_model.fit(log_X, log_y)"
   ]
  },
  {
   "cell_type": "code",
   "execution_count": 137,
   "id": "29526a44",
   "metadata": {},
   "outputs": [
    {
     "name": "stdout",
     "output_type": "stream",
     "text": [
      "['High']\n"
     ]
    }
   ],
   "source": [
    "print(log_model.predict([[1,1,1,1]]))"
   ]
  },
  {
   "cell_type": "code",
   "execution_count": 138,
   "id": "e2c3c063",
   "metadata": {},
   "outputs": [
    {
     "name": "stdout",
     "output_type": "stream",
     "text": [
      "0.4378690710521303\n"
     ]
    }
   ],
   "source": [
    "from sklearn import metrics\n",
    "\n",
    "log_y_pred = log_model.predict(log_X)\n",
    "print(metrics.accuracy_score(log_y, log_y_pred))"
   ]
  },
  {
   "cell_type": "code",
   "execution_count": 139,
   "id": "5f2e4453",
   "metadata": {},
   "outputs": [
    {
     "name": "stdout",
     "output_type": "stream",
     "text": [
      "0.433015873015873\n"
     ]
    }
   ],
   "source": [
    "from sklearn import model_selection\n",
    "\n",
    "X_train, X_test, y_train, y_test = model_selection.train_test_split(log_X, log_y, test_size = 0.3)\n",
    "\n",
    "log_model.fit(X_train, y_train)\n",
    "test_y_pred = log_model.predict(X_test)\n",
    "\n",
    "print(metrics.accuracy_score(y_test, test_y_pred))"
   ]
  },
  {
   "cell_type": "code",
   "execution_count": 140,
   "id": "49bcdbad",
   "metadata": {},
   "outputs": [
    {
     "data": {
      "text/plain": [
       "<sklearn.metrics._plot.confusion_matrix.ConfusionMatrixDisplay at 0x7fa67ae45910>"
      ]
     },
     "execution_count": 140,
     "metadata": {},
     "output_type": "execute_result"
    },
    {
     "data": {
      "image/png": "[encoded data removed]",
      "text/plain": [
       "<Figure size 432x288 with 2 Axes>"
      ]
     },
     "metadata": {
      "needs_background": "light"
     },
     "output_type": "display_data"
    }
   ],
   "source": [
    "metrics.ConfusionMatrixDisplay.from_predictions(y_test, test_y_pred)"
   ]
  },
  {
   "cell_type": "code",
   "execution_count": 141,
   "id": "8cb49217",
   "metadata": {},
   "outputs": [
    {
     "name": "stderr",
     "output_type": "stream",
     "text": [
      "/Users/chandlercarlile/opt/miniconda3/envs/capstone-project/lib/python3.9/site-packages/sklearn/svm/_base.py:1206: ConvergenceWarning: Liblinear failed to converge, increase the number of iterations.\n",
      "  warnings.warn(\n"
     ]
    },
    {
     "data": {
      "text/plain": [
       "LinearSVC()"
      ]
     },
     "execution_count": 141,
     "metadata": {},
     "output_type": "execute_result"
    }
   ],
   "source": [
    "from sklearn.svm import LinearSVC\n",
    "\n",
    "svc_model = LinearSVC(max_iter = 1000)\n",
    "\n",
    "svc_model.fit(log_X,log_y)"
   ]
  },
  {
   "cell_type": "code",
   "execution_count": 142,
   "id": "fdf3d70b",
   "metadata": {},
   "outputs": [
    {
     "data": {
      "text/plain": [
       "KNeighborsClassifier()"
      ]
     },
     "execution_count": 142,
     "metadata": {},
     "output_type": "execute_result"
    }
   ],
   "source": [
    "from sklearn import neighbors\n",
    "\n",
    "kneighbors_model = neighbors.KNeighborsClassifier()\n",
    "\n",
    "kneighbors_model.fit(log_X, log_y)"
   ]
  },
  {
   "cell_type": "code",
   "execution_count": 143,
   "id": "a29abcae",
   "metadata": {},
   "outputs": [
    {
     "name": "stdout",
     "output_type": "stream",
     "text": [
      "0.6620102863673885\n"
     ]
    }
   ],
   "source": [
    "kneighbors_pred = kneighbors_model.predict(log_X)\n",
    "\n",
    "print(metrics.accuracy_score(log_y, kneighbors_pred))"
   ]
  },
  {
   "cell_type": "code",
   "execution_count": 144,
   "id": "a2b87f7f",
   "metadata": {},
   "outputs": [
    {
     "data": {
      "text/plain": [
       "<sklearn.metrics._plot.confusion_matrix.ConfusionMatrixDisplay at 0x7fa67d037640>"
      ]
     },
     "execution_count": 144,
     "metadata": {},
     "output_type": "execute_result"
    },
    {
     "data": {
      "image/png": "[encoded data removed]",
      "text/plain": [
       "<Figure size 432x288 with 2 Axes>"
      ]
     },
     "metadata": {
      "needs_background": "light"
     },
     "output_type": "display_data"
    }
   ],
   "source": [
    "metrics.ConfusionMatrixDisplay.from_predictions(log_y, kneighbors_pred)"
   ]
  },
  {
   "cell_type": "code",
   "execution_count": 145,
   "id": "cf1ad6f2",
   "metadata": {},
   "outputs": [
    {
     "name": "stdout",
     "output_type": "stream",
     "text": [
      "0.5115343915343915\n"
     ]
    }
   ],
   "source": [
    "kneighbors_model.fit(X_train, y_train)\n",
    "neightbors_split_pred = kneighbors_model.predict(X_test)\n",
    "\n",
    "print(metrics.accuracy_score(y_test, neightbors_split_pred))"
   ]
  },
  {
   "cell_type": "code",
   "execution_count": 146,
   "id": "11f652d6",
   "metadata": {},
   "outputs": [
    {
     "data": {
      "text/plain": [
       "<sklearn.metrics._plot.confusion_matrix.ConfusionMatrixDisplay at 0x7fa67a119190>"
      ]
     },
     "execution_count": 146,
     "metadata": {},
     "output_type": "execute_result"
    },
    {
     "data": {
      "image/png": "[encoded data removed]",
      "text/plain": [
       "<Figure size 432x288 with 2 Axes>"
      ]
     },
     "metadata": {
      "needs_background": "light"
     },
     "output_type": "display_data"
    }
   ],
   "source": [
    "metrics.ConfusionMatrixDisplay.from_predictions(y_test, neightbors_split_pred)"
   ]
  },
  {
   "cell_type": "code",
   "execution_count": null,
   "id": "575d91c9",
   "metadata": {},
   "outputs": [],
   "source": []
  }
 ],
 "metadata": {
  "kernelspec": {
   "display_name": "Python 3 (ipykernel)",
   "language": "python",
   "name": "python3"
  },
  "language_info": {
   "codemirror_mode": {
    "name": "ipython",
    "version": 3
   },
   "file_extension": ".py",
   "mimetype": "text/x-python",
   "name": "python",
   "nbconvert_exporter": "python",
   "pygments_lexer": "ipython3",
   "version": "3.9.12"
  }
 },
 "nbformat": 4,
 "nbformat_minor": 5
}
